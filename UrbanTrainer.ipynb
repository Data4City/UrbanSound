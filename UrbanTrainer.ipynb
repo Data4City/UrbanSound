{
 "cells": [
  {
   "cell_type": "code",
   "execution_count": 19,
   "metadata": {},
   "outputs": [
    {
     "data": {
      "text/html": [
       "<script>\n",
       "code_show_err=false; \n",
       "function code_toggle_err() {\n",
       " if (code_show_err){\n",
       " $('div.output_stderr').hide();\n",
       " } else {\n",
       " $('div.output_stderr').show();\n",
       " }\n",
       " code_show_err = !code_show_err\n",
       "} \n",
       "$( document ).ready(code_toggle_err);\n",
       "</script>\n",
       "To toggle on/off output_stderr, click <a href=\"javascript:code_toggle_err()\">here</a>."
      ],
      "text/plain": [
       "<IPython.core.display.HTML object>"
      ]
     },
     "execution_count": 19,
     "metadata": {},
     "output_type": "execute_result"
    }
   ],
   "source": [
    "import glob\n",
    "import os\n",
    "import librosa\n",
    "import librosa.display\n",
    "import numpy as np\n",
    "import matplotlib.pyplot as plt\n",
    "from matplotlib.pyplot import specgram\n",
    "import pandas as pd\n",
    "import os.path as p\n",
    "%matplotlib inline\n",
    "\n",
    "from IPython.display import HTML\n",
    "HTML('''<script>\n",
    "code_show_err=false; \n",
    "function code_toggle_err() {\n",
    " if (code_show_err){\n",
    " $('div.output_stderr').hide();\n",
    " } else {\n",
    " $('div.output_stderr').show();\n",
    " }\n",
    " code_show_err = !code_show_err\n",
    "} \n",
    "$( document ).ready(code_toggle_err);\n",
    "</script>\n",
    "To toggle on/off output_stderr, click <a href=\"javascript:code_toggle_err()\">here</a>.''')"
   ]
  },
  {
   "cell_type": "code",
   "execution_count": 12,
   "metadata": {},
   "outputs": [],
   "source": [
    "\n",
    "datasource_path = \"UrbanSound8k\"\n",
    "metadata_path = p.join(p.join(datasource_path, \"metadata\"),\"UrbanSound8k.csv\")\n",
    "metadata = pd.read_csv(metadata_path, index_col=\"fsID\")\n",
    "\n",
    "audio_source = p.join(datasource_path, \"audio\")\n",
    "spectro_path = p.join(\"UrbanSound8k\", \"spectrogram\")\n",
    "\n",
    "folds = [\"fold{}\".format(str(i)) for i in range(1,11)]"
   ]
  },
  {
   "cell_type": "code",
   "execution_count": 13,
   "metadata": {},
   "outputs": [
    {
     "data": {
      "text/html": [
       "<div>\n",
       "<style scoped>\n",
       "    .dataframe tbody tr th:only-of-type {\n",
       "        vertical-align: middle;\n",
       "    }\n",
       "\n",
       "    .dataframe tbody tr th {\n",
       "        vertical-align: top;\n",
       "    }\n",
       "\n",
       "    .dataframe thead th {\n",
       "        text-align: right;\n",
       "    }\n",
       "</style>\n",
       "<table border=\"1\" class=\"dataframe\">\n",
       "  <thead>\n",
       "    <tr style=\"text-align: right;\">\n",
       "      <th></th>\n",
       "      <th>slice_file_name</th>\n",
       "      <th>start</th>\n",
       "      <th>end</th>\n",
       "      <th>salience</th>\n",
       "      <th>fold</th>\n",
       "      <th>classID</th>\n",
       "      <th>class</th>\n",
       "    </tr>\n",
       "    <tr>\n",
       "      <th>fsID</th>\n",
       "      <th></th>\n",
       "      <th></th>\n",
       "      <th></th>\n",
       "      <th></th>\n",
       "      <th></th>\n",
       "      <th></th>\n",
       "      <th></th>\n",
       "    </tr>\n",
       "  </thead>\n",
       "  <tbody>\n",
       "    <tr>\n",
       "      <th>100032</th>\n",
       "      <td>100032-3-0-0.wav</td>\n",
       "      <td>0.0</td>\n",
       "      <td>0.317551</td>\n",
       "      <td>1</td>\n",
       "      <td>5</td>\n",
       "      <td>3</td>\n",
       "      <td>dog_bark</td>\n",
       "    </tr>\n",
       "    <tr>\n",
       "      <th>100263</th>\n",
       "      <td>100263-2-0-117.wav</td>\n",
       "      <td>58.5</td>\n",
       "      <td>62.500000</td>\n",
       "      <td>1</td>\n",
       "      <td>5</td>\n",
       "      <td>2</td>\n",
       "      <td>children_playing</td>\n",
       "    </tr>\n",
       "    <tr>\n",
       "      <th>100263</th>\n",
       "      <td>100263-2-0-121.wav</td>\n",
       "      <td>60.5</td>\n",
       "      <td>64.500000</td>\n",
       "      <td>1</td>\n",
       "      <td>5</td>\n",
       "      <td>2</td>\n",
       "      <td>children_playing</td>\n",
       "    </tr>\n",
       "    <tr>\n",
       "      <th>100263</th>\n",
       "      <td>100263-2-0-126.wav</td>\n",
       "      <td>63.0</td>\n",
       "      <td>67.000000</td>\n",
       "      <td>1</td>\n",
       "      <td>5</td>\n",
       "      <td>2</td>\n",
       "      <td>children_playing</td>\n",
       "    </tr>\n",
       "    <tr>\n",
       "      <th>100263</th>\n",
       "      <td>100263-2-0-137.wav</td>\n",
       "      <td>68.5</td>\n",
       "      <td>72.500000</td>\n",
       "      <td>1</td>\n",
       "      <td>5</td>\n",
       "      <td>2</td>\n",
       "      <td>children_playing</td>\n",
       "    </tr>\n",
       "  </tbody>\n",
       "</table>\n",
       "</div>"
      ],
      "text/plain": [
       "           slice_file_name  start        end  salience  fold  classID  \\\n",
       "fsID                                                                    \n",
       "100032    100032-3-0-0.wav    0.0   0.317551         1     5        3   \n",
       "100263  100263-2-0-117.wav   58.5  62.500000         1     5        2   \n",
       "100263  100263-2-0-121.wav   60.5  64.500000         1     5        2   \n",
       "100263  100263-2-0-126.wav   63.0  67.000000         1     5        2   \n",
       "100263  100263-2-0-137.wav   68.5  72.500000         1     5        2   \n",
       "\n",
       "                   class  \n",
       "fsID                      \n",
       "100032          dog_bark  \n",
       "100263  children_playing  \n",
       "100263  children_playing  \n",
       "100263  children_playing  \n",
       "100263  children_playing  "
      ]
     },
     "execution_count": 13,
     "metadata": {},
     "output_type": "execute_result"
    }
   ],
   "source": [
    "metadata[:5]"
   ]
  },
  {
   "cell_type": "code",
   "execution_count": 14,
   "metadata": {},
   "outputs": [
    {
     "name": "stdout",
     "output_type": "stream",
     "text": [
      "Directory  UrbanSound8k\\spectrogram  already exists\n",
      "Directory  UrbanSound8k\\spectrogram\\fold1  already exists\n",
      "Directory  UrbanSound8k\\spectrogram\\fold2  already exists\n",
      "Directory  UrbanSound8k\\spectrogram\\fold3  already exists\n",
      "Directory  UrbanSound8k\\spectrogram\\fold4  already exists\n",
      "Directory  UrbanSound8k\\spectrogram\\fold5  already exists\n",
      "Directory  UrbanSound8k\\spectrogram\\fold6  already exists\n",
      "Directory  UrbanSound8k\\spectrogram\\fold7  already exists\n",
      "Directory  UrbanSound8k\\spectrogram\\fold8  already exists\n",
      "Directory  UrbanSound8k\\spectrogram\\fold9  already exists\n",
      "Directory  UrbanSound8k\\spectrogram\\fold10  already exists\n"
     ]
    }
   ],
   "source": [
    "def create_folders():\n",
    "    to_create =[spectro_path]+ [p.join(spectro_path, fold) for fold in folds]\n",
    "    \n",
    "    for dirName in to_create:\n",
    "        try:\n",
    "            # Create target Directory\n",
    "            os.mkdir(dirName)\n",
    "            print(\"Directory \" , dirName ,  \" Created \") \n",
    "        except FileExistsError:\n",
    "            print(\"Directory \" , dirName ,  \" already exists\")\n",
    "\n",
    "create_folders()"
   ]
  },
  {
   "cell_type": "code",
   "execution_count": 22,
   "metadata": {},
   "outputs": [],
   "source": [
    "import gc\n",
    "\n",
    "\n",
    "def build_path(file_name,spectrogram = False):\n",
    "    file= file_name.split(\".\")\n",
    "    source = spectro_path if spectrogram else audio_source\n",
    "    file_name = file[0] + \".jpg\" if spectrogram else file[0] +\".wav\"\n",
    "    fsID= int(file_name.split(\"-\")[0])\n",
    "    frame = metadata.loc[fsID]\n",
    "    fold_id = 0\n",
    "    try:\n",
    "        fold_id = frame[\"fold\"].values[0]-1\n",
    "    except:\n",
    "        fold_id = frame[\"fold\"] -1\n",
    "    file_with_fold = p.join(folds[fold_id], file_name)\n",
    "    return p.join(source,file_with_fold), fold_id\n",
    "\n",
    "\n",
    "def add_spectrogram_to_metadata():\n",
    "    counter = 0\n",
    "    errors = 0\n",
    "    for index, row in metadata.iterrows():\n",
    "        counter += 1\n",
    "        if counter%2000 ==0:\n",
    "            gc.collect()\n",
    "        try:\n",
    "            file_name = row[\"slice_file_name\"]\n",
    "            s,_ = build_path(file_name, True)\n",
    "            metadata.loc[index, \"spectro_path\"] = s\n",
    "            if not p.exists(s): create_spectrogram(row[\"slice_file_name\"])\n",
    "        except Exception as e:\n",
    "            errors +=1\n",
    "\n",
    "    print(\"Total: {} \\nErrors: {}\\nCorrect: {}\".format(counter, errors, counter-errors))\n",
    "    return m\n",
    "\n",
    "def plot_spectrogram(filename):\n",
    "    plt.interactive(False)\n",
    "    filename, _ = build_path(filename, metadata)\n",
    "    clip, sample_rate = librosa.load(filename, sr=None)\n",
    "    fig, ax = plt.subplots()\n",
    "    S = librosa.feature.melspectrogram(y=clip, sr=sample_rate)\n",
    "    librosa.display.specshow(librosa.power_to_db(S, ref=np.max))\n",
    "    plt.show()\n",
    "\n",
    "    \n",
    "def create_spectrogram(filename):\n",
    "    plt.interactive(False)\n",
    "    filename, fold_id =build_path(filename, metadata)\n",
    "    clip, sample_rate = librosa.load(filename, sr=None)\n",
    "    fig = plt.figure(figsize=[0.72,0.72])\n",
    "    ax = fig.add_subplot(111)\n",
    "    ax.axes.get_xaxis().set_visible(False)\n",
    "    ax.axes.get_yaxis().set_visible(False)\n",
    "    ax.set_frame_on(False)\n",
    "    S = librosa.feature.melspectrogram(y=clip, sr=sample_rate)\n",
    "    librosa.display.specshow(librosa.power_to_db(S, ref=np.max))\n",
    "    curr_path = p.join(spectro_path, folds[fold_id])\n",
    "    savefile  = p.join(curr_path, \"{}.jpg\".format(p.basename(filename).split(\".\")[0] ))\n",
    "    plt.savefig(savefile, dpi=400, bbox_inches='tight',pad_inches=0)\n",
    "    plt.close()    \n",
    "    fig.clf()\n",
    "    plt.close(fig)\n",
    "    plt.close('all')\n",
    "    del filename,clip,sample_rate,fig,ax,S,savefile"
   ]
  },
  {
   "cell_type": "code",
   "execution_count": 23,
   "metadata": {
    "scrolled": false
   },
   "outputs": [
    {
     "ename": "ValueError",
     "evalue": "The truth value of a DataFrame is ambiguous. Use a.empty, a.bool(), a.item(), a.any() or a.all().",
     "output_type": "error",
     "traceback": [
      "\u001b[1;31m---------------------------------------------------------------------------\u001b[0m",
      "\u001b[1;31mValueError\u001b[0m                                Traceback (most recent call last)",
      "\u001b[1;32m<ipython-input-23-c74da10dd5d9>\u001b[0m in \u001b[0;36m<module>\u001b[1;34m\u001b[0m\n\u001b[1;32m----> 1\u001b[1;33m \u001b[0mcreate_spectrogram\u001b[0m\u001b[1;33m(\u001b[0m\u001b[1;34m\"100263-2-0-126.wav\"\u001b[0m\u001b[1;33m)\u001b[0m\u001b[1;33m\u001b[0m\u001b[1;33m\u001b[0m\u001b[0m\n\u001b[0m\u001b[0;32m      2\u001b[0m \u001b[0mplot_spectrogram\u001b[0m\u001b[1;33m(\u001b[0m\u001b[1;34m\"100263-2-0-126.wav\"\u001b[0m\u001b[1;33m)\u001b[0m\u001b[1;33m\u001b[0m\u001b[1;33m\u001b[0m\u001b[0m\n",
      "\u001b[1;32m<ipython-input-22-c97d3682367b>\u001b[0m in \u001b[0;36mcreate_spectrogram\u001b[1;34m(filename)\u001b[0m\n\u001b[0;32m     47\u001b[0m \u001b[1;32mdef\u001b[0m \u001b[0mcreate_spectrogram\u001b[0m\u001b[1;33m(\u001b[0m\u001b[0mfilename\u001b[0m\u001b[1;33m)\u001b[0m\u001b[1;33m:\u001b[0m\u001b[1;33m\u001b[0m\u001b[1;33m\u001b[0m\u001b[0m\n\u001b[0;32m     48\u001b[0m     \u001b[0mplt\u001b[0m\u001b[1;33m.\u001b[0m\u001b[0minteractive\u001b[0m\u001b[1;33m(\u001b[0m\u001b[1;32mFalse\u001b[0m\u001b[1;33m)\u001b[0m\u001b[1;33m\u001b[0m\u001b[1;33m\u001b[0m\u001b[0m\n\u001b[1;32m---> 49\u001b[1;33m     \u001b[0mfilename\u001b[0m\u001b[1;33m,\u001b[0m \u001b[0mfold_id\u001b[0m \u001b[1;33m=\u001b[0m\u001b[0mbuild_path\u001b[0m\u001b[1;33m(\u001b[0m\u001b[0mfilename\u001b[0m\u001b[1;33m,\u001b[0m \u001b[0mmetadata\u001b[0m\u001b[1;33m)\u001b[0m\u001b[1;33m\u001b[0m\u001b[1;33m\u001b[0m\u001b[0m\n\u001b[0m\u001b[0;32m     50\u001b[0m     \u001b[0mclip\u001b[0m\u001b[1;33m,\u001b[0m \u001b[0msample_rate\u001b[0m \u001b[1;33m=\u001b[0m \u001b[0mlibrosa\u001b[0m\u001b[1;33m.\u001b[0m\u001b[0mload\u001b[0m\u001b[1;33m(\u001b[0m\u001b[0mfilename\u001b[0m\u001b[1;33m,\u001b[0m \u001b[0msr\u001b[0m\u001b[1;33m=\u001b[0m\u001b[1;32mNone\u001b[0m\u001b[1;33m)\u001b[0m\u001b[1;33m\u001b[0m\u001b[1;33m\u001b[0m\u001b[0m\n\u001b[0;32m     51\u001b[0m     \u001b[0mfig\u001b[0m \u001b[1;33m=\u001b[0m \u001b[0mplt\u001b[0m\u001b[1;33m.\u001b[0m\u001b[0mfigure\u001b[0m\u001b[1;33m(\u001b[0m\u001b[0mfigsize\u001b[0m\u001b[1;33m=\u001b[0m\u001b[1;33m[\u001b[0m\u001b[1;36m0.72\u001b[0m\u001b[1;33m,\u001b[0m\u001b[1;36m0.72\u001b[0m\u001b[1;33m]\u001b[0m\u001b[1;33m)\u001b[0m\u001b[1;33m\u001b[0m\u001b[1;33m\u001b[0m\u001b[0m\n",
      "\u001b[1;32m<ipython-input-22-c97d3682367b>\u001b[0m in \u001b[0;36mbuild_path\u001b[1;34m(file_name, spectrogram)\u001b[0m\n\u001b[0;32m      4\u001b[0m \u001b[1;32mdef\u001b[0m \u001b[0mbuild_path\u001b[0m\u001b[1;33m(\u001b[0m\u001b[0mfile_name\u001b[0m\u001b[1;33m,\u001b[0m\u001b[0mspectrogram\u001b[0m \u001b[1;33m=\u001b[0m \u001b[1;32mFalse\u001b[0m\u001b[1;33m)\u001b[0m\u001b[1;33m:\u001b[0m\u001b[1;33m\u001b[0m\u001b[1;33m\u001b[0m\u001b[0m\n\u001b[0;32m      5\u001b[0m     \u001b[0mfile\u001b[0m\u001b[1;33m=\u001b[0m \u001b[0mfile_name\u001b[0m\u001b[1;33m.\u001b[0m\u001b[0msplit\u001b[0m\u001b[1;33m(\u001b[0m\u001b[1;34m\".\"\u001b[0m\u001b[1;33m)\u001b[0m\u001b[1;33m\u001b[0m\u001b[1;33m\u001b[0m\u001b[0m\n\u001b[1;32m----> 6\u001b[1;33m     \u001b[0msource\u001b[0m \u001b[1;33m=\u001b[0m \u001b[0mspectro_path\u001b[0m \u001b[1;32mif\u001b[0m \u001b[0mspectrogram\u001b[0m \u001b[1;32melse\u001b[0m \u001b[0maudio_source\u001b[0m\u001b[1;33m\u001b[0m\u001b[1;33m\u001b[0m\u001b[0m\n\u001b[0m\u001b[0;32m      7\u001b[0m     \u001b[0mfile_name\u001b[0m \u001b[1;33m=\u001b[0m \u001b[0mfile\u001b[0m\u001b[1;33m[\u001b[0m\u001b[1;36m0\u001b[0m\u001b[1;33m]\u001b[0m \u001b[1;33m+\u001b[0m \u001b[1;34m\".jpg\"\u001b[0m \u001b[1;32mif\u001b[0m \u001b[0mspectrogram\u001b[0m \u001b[1;32melse\u001b[0m \u001b[0mfile\u001b[0m\u001b[1;33m[\u001b[0m\u001b[1;36m0\u001b[0m\u001b[1;33m]\u001b[0m \u001b[1;33m+\u001b[0m\u001b[1;34m\".wav\"\u001b[0m\u001b[1;33m\u001b[0m\u001b[1;33m\u001b[0m\u001b[0m\n\u001b[0;32m      8\u001b[0m     \u001b[0mfsID\u001b[0m\u001b[1;33m=\u001b[0m \u001b[0mint\u001b[0m\u001b[1;33m(\u001b[0m\u001b[0mfile_name\u001b[0m\u001b[1;33m.\u001b[0m\u001b[0msplit\u001b[0m\u001b[1;33m(\u001b[0m\u001b[1;34m\"-\"\u001b[0m\u001b[1;33m)\u001b[0m\u001b[1;33m[\u001b[0m\u001b[1;36m0\u001b[0m\u001b[1;33m]\u001b[0m\u001b[1;33m)\u001b[0m\u001b[1;33m\u001b[0m\u001b[1;33m\u001b[0m\u001b[0m\n",
      "\u001b[1;32mc:\\users\\anton\\anaconda3\\envs\\ml-agents\\lib\\site-packages\\pandas\\core\\generic.py\u001b[0m in \u001b[0;36m__nonzero__\u001b[1;34m(self)\u001b[0m\n\u001b[0;32m   1554\u001b[0m             \u001b[1;34m\"The truth value of a {0} is ambiguous. \"\u001b[0m\u001b[1;33m\u001b[0m\u001b[1;33m\u001b[0m\u001b[0m\n\u001b[0;32m   1555\u001b[0m             \"Use a.empty, a.bool(), a.item(), a.any() or a.all().\".format(\n\u001b[1;32m-> 1556\u001b[1;33m                 \u001b[0mself\u001b[0m\u001b[1;33m.\u001b[0m\u001b[0m__class__\u001b[0m\u001b[1;33m.\u001b[0m\u001b[0m__name__\u001b[0m\u001b[1;33m\u001b[0m\u001b[1;33m\u001b[0m\u001b[0m\n\u001b[0m\u001b[0;32m   1557\u001b[0m             )\n\u001b[0;32m   1558\u001b[0m         )\n",
      "\u001b[1;31mValueError\u001b[0m: The truth value of a DataFrame is ambiguous. Use a.empty, a.bool(), a.item(), a.any() or a.all()."
     ]
    }
   ],
   "source": [
    "create_spectrogram(\"100263-2-0-126.wav\")\n",
    "plot_spectrogram(\"100263-2-0-126.wav\")"
   ]
  },
  {
   "cell_type": "code",
   "execution_count": 10,
   "metadata": {},
   "outputs": [
    {
     "ename": "TypeError",
     "evalue": "add_spectrogram_to_metadata() missing 1 required positional argument: 'metadata'",
     "output_type": "error",
     "traceback": [
      "\u001b[1;31m---------------------------------------------------------------------------\u001b[0m",
      "\u001b[1;31mTypeError\u001b[0m                                 Traceback (most recent call last)",
      "\u001b[1;32m<ipython-input-10-867660b83c8f>\u001b[0m in \u001b[0;36m<module>\u001b[1;34m\u001b[0m\n\u001b[1;32m----> 1\u001b[1;33m \u001b[0madd_spectrogram_to_metadata\u001b[0m\u001b[1;33m(\u001b[0m\u001b[1;33m)\u001b[0m\u001b[1;33m\u001b[0m\u001b[1;33m\u001b[0m\u001b[0m\n\u001b[0m\u001b[0;32m      2\u001b[0m \u001b[0mmetadata\u001b[0m\u001b[1;33m[\u001b[0m\u001b[1;33m:\u001b[0m\u001b[1;36m5\u001b[0m\u001b[1;33m]\u001b[0m\u001b[1;33m\u001b[0m\u001b[1;33m\u001b[0m\u001b[0m\n",
      "\u001b[1;31mTypeError\u001b[0m: add_spectrogram_to_metadata() missing 1 required positional argument: 'metadata'"
     ]
    }
   ],
   "source": [
    "add_spectrogram_to_metadata()\n",
    "metadata[:5]"
   ]
  },
  {
   "cell_type": "code",
   "execution_count": 29,
   "metadata": {},
   "outputs": [],
   "source": [
    "from keras.optimizers import Adam\n",
    "from keras.preprocessing.image import ImageDataGenerator\n",
    "from keras.callbacks import ModelCheckpoint, ReduceLROnPlateau\n",
    "from keras import optimizers\n",
    "from keras.models import Sequential\n",
    "from keras.layers import Dense, Activation, Conv2D,Flatten, MaxPooling2D, Dropout\n",
    "from keras.callbacks import TensorBoard\n",
    "from keras.models import load_model"
   ]
  },
  {
   "cell_type": "code",
   "execution_count": 32,
   "metadata": {},
   "outputs": [],
   "source": [
    "datagen=ImageDataGenerator(rescale=1./255)\n",
    "def get_model():\n",
    "    model = Sequential()\n",
    "    model.add(Conv2D(32, (3, 3), padding='same',\n",
    "                 input_shape=(64,64,3)))\n",
    "    model.add(Activation('relu'))\n",
    "    model.add(Conv2D(64, (3, 3)))\n",
    "    model.add(Activation('relu'))\n",
    "    model.add(MaxPooling2D(pool_size=(2, 2)))\n",
    "    model.add(Dropout(0.25))\n",
    "    model.add(Conv2D(64, (3, 3), padding='same'))\n",
    "    model.add(Activation('relu'))\n",
    "    model.add(Conv2D(64, (3, 3)))\n",
    "    model.add(Activation('relu'))\n",
    "    model.add(MaxPooling2D(pool_size=(2, 2)))\n",
    "    model.add(Dropout(0.5))\n",
    "    model.add(Conv2D(128, (3, 3), padding='same'))\n",
    "    model.add(Activation('relu'))\n",
    "    model.add(Conv2D(128, (3, 3)))\n",
    "    model.add(Activation('relu'))\n",
    "    model.add(MaxPooling2D(pool_size=(2, 2)))\n",
    "    model.add(Dropout(0.5))\n",
    "    model.add(Flatten())\n",
    "    model.add(Dense(512))\n",
    "    model.add(Activation('relu'))\n",
    "    model.add(Dropout(0.5))\n",
    "    model.add(Dense(10, activation='softmax'))\n",
    "    \n",
    "    return model\n",
    "\n",
    "def get_callbacks(name_weights, patience_lr):\n",
    "    if not p.exists(\"weights\"):     os.mkdir(\"weights\")       \n",
    "    mcp_save = ModelCheckpoint(\"weights/{}_weights.h5\".format(name_weights), save_best_only=True, monitor='val_loss', mode='min')\n",
    "    reduce_lr_loss = ReduceLROnPlateau(monitor='loss', factor=0.1, patience=patience_lr, verbose=1, epsilon=1e-4, mode='min')\n",
    "    tensorboard = TensorBoard(log_dir='logs/{}'.format(name_weights))\n",
    "\n",
    "    return [mcp_save, reduce_lr_loss, tensorboard]"
   ]
  },
  {
   "cell_type": "code",
   "execution_count": 33,
   "metadata": {
    "scrolled": true
   },
   "outputs": [
    {
     "name": "stdout",
     "output_type": "stream",
     "text": [
      "Found 7798 validated image filenames belonging to 10 classes.\n",
      "Found 782 validated image filenames belonging to 10 classes.\n"
     ]
    },
    {
     "name": "stderr",
     "output_type": "stream",
     "text": [
      "c:\\users\\anton\\anaconda3\\envs\\ml-agents\\lib\\site-packages\\keras_preprocessing\\image\\dataframe_iterator.py:273: UserWarning: Found 137 invalid image filename(s) in x_col=\"spectro_path\". These filename(s) will be ignored.\n",
      "  .format(n_invalid, x_col)\n",
      "c:\\users\\anton\\anaconda3\\envs\\ml-agents\\lib\\site-packages\\keras_preprocessing\\image\\dataframe_iterator.py:273: UserWarning: Found 15 invalid image filename(s) in x_col=\"spectro_path\". These filename(s) will be ignored.\n",
      "  .format(n_invalid, x_col)\n"
     ]
    },
    {
     "name": "stdout",
     "output_type": "stream",
     "text": [
      "Found 7707 validated image filenames belonging to 10 classes.\n",
      "Found 873 validated image filenames belonging to 10 classes.\n"
     ]
    },
    {
     "name": "stderr",
     "output_type": "stream",
     "text": [
      "c:\\users\\anton\\anaconda3\\envs\\ml-agents\\lib\\site-packages\\keras_preprocessing\\image\\dataframe_iterator.py:273: UserWarning: Found 152 invalid image filename(s) in x_col=\"spectro_path\". These filename(s) will be ignored.\n",
      "  .format(n_invalid, x_col)\n"
     ]
    },
    {
     "name": "stdout",
     "output_type": "stream",
     "text": [
      "Found 7655 validated image filenames belonging to 10 classes.\n",
      "Found 925 validated image filenames belonging to 10 classes.\n"
     ]
    },
    {
     "name": "stderr",
     "output_type": "stream",
     "text": [
      "c:\\users\\anton\\anaconda3\\envs\\ml-agents\\lib\\site-packages\\keras_preprocessing\\image\\dataframe_iterator.py:273: UserWarning: Found 140 invalid image filename(s) in x_col=\"spectro_path\". These filename(s) will be ignored.\n",
      "  .format(n_invalid, x_col)\n",
      "c:\\users\\anton\\anaconda3\\envs\\ml-agents\\lib\\site-packages\\keras_preprocessing\\image\\dataframe_iterator.py:273: UserWarning: Found 12 invalid image filename(s) in x_col=\"spectro_path\". These filename(s) will be ignored.\n",
      "  .format(n_invalid, x_col)\n"
     ]
    },
    {
     "name": "stdout",
     "output_type": "stream",
     "text": [
      "Found 7602 validated image filenames belonging to 10 classes.\n",
      "Found 978 validated image filenames belonging to 10 classes.\n",
      "Found 7644 validated image filenames belonging to 10 classes.\n",
      "Found 936 validated image filenames belonging to 10 classes.\n",
      "Found 7757 validated image filenames belonging to 10 classes.\n",
      "Found 823 validated image filenames belonging to 10 classes.\n",
      "Found 7757 validated image filenames belonging to 10 classes.\n",
      "Found 823 validated image filenames belonging to 10 classes.\n"
     ]
    },
    {
     "name": "stderr",
     "output_type": "stream",
     "text": [
      "c:\\users\\anton\\anaconda3\\envs\\ml-agents\\lib\\site-packages\\keras_preprocessing\\image\\dataframe_iterator.py:273: UserWarning: Found 149 invalid image filename(s) in x_col=\"spectro_path\". These filename(s) will be ignored.\n",
      "  .format(n_invalid, x_col)\n",
      "c:\\users\\anton\\anaconda3\\envs\\ml-agents\\lib\\site-packages\\keras_preprocessing\\image\\dataframe_iterator.py:273: UserWarning: Found 3 invalid image filename(s) in x_col=\"spectro_path\". These filename(s) will be ignored.\n",
      "  .format(n_invalid, x_col)\n"
     ]
    },
    {
     "name": "stdout",
     "output_type": "stream",
     "text": [
      "Found 7777 validated image filenames belonging to 10 classes.\n",
      "Found 803 validated image filenames belonging to 10 classes.\n"
     ]
    },
    {
     "name": "stderr",
     "output_type": "stream",
     "text": [
      "c:\\users\\anton\\anaconda3\\envs\\ml-agents\\lib\\site-packages\\keras_preprocessing\\image\\dataframe_iterator.py:273: UserWarning: Found 136 invalid image filename(s) in x_col=\"spectro_path\". These filename(s) will be ignored.\n",
      "  .format(n_invalid, x_col)\n",
      "c:\\users\\anton\\anaconda3\\envs\\ml-agents\\lib\\site-packages\\keras_preprocessing\\image\\dataframe_iterator.py:273: UserWarning: Found 16 invalid image filename(s) in x_col=\"spectro_path\". These filename(s) will be ignored.\n",
      "  .format(n_invalid, x_col)\n"
     ]
    },
    {
     "name": "stdout",
     "output_type": "stream",
     "text": [
      "Found 7780 validated image filenames belonging to 10 classes.\n",
      "Found 800 validated image filenames belonging to 10 classes.\n",
      "Found 7743 validated image filenames belonging to 10 classes.\n",
      "Found 837 validated image filenames belonging to 10 classes.\n"
     ]
    }
   ],
   "source": [
    "\n",
    "for j in range(1,11):\n",
    "    test_mask = (metadata.fold != j)\n",
    "    valid_mask = (metadata.fold == j)\n",
    "\n",
    "    name_weights = \"fold_\" + str(j)\n",
    "    train_generator=datagen.flow_from_dataframe(dataframe=metadata[test_mask], \n",
    "                                                directory=\"./\", x_col=\"spectro_path\", \n",
    "                                                y_col=\"class\", class_mode=\"categorical\", \n",
    "                                                target_size=(64,64), batch_size=32)\n",
    "    validation_generator=datagen.flow_from_dataframe(dataframe=metadata[valid_mask], \n",
    "                                                directory=\"./\", x_col=\"spectro_path\", \n",
    "                                                y_col=\"class\", class_mode=\"categorical\", \n",
    "                                                target_size=(64,64), batch_size=32)\n",
    "\n",
    "    callbacks = get_callbacks(name_weights = name_weights, patience_lr=10)\n",
    "    model = get_model()\n",
    "    model.compile(optimizers.rmsprop(lr=0.0005, decay=1e-6),loss=\"categorical_crossentropy\",metrics=[\"accuracy\"])\n",
    "\n",
    "    model.fit_generator(\n",
    "                train_generator,\n",
    "                epochs=15,\n",
    "                verbose=0,\n",
    "                validation_data = validation_generator, \n",
    "                callbacks = callbacks)"
   ]
  },
  {
   "cell_type": "code",
   "execution_count": null,
   "metadata": {},
   "outputs": [],
   "source": [
    "def load_fold_model(idx):\n",
    "    file_name = \"fold_{}_weights.h5\".format(idx)\n",
    "    return load_model(file_name)\n",
    "\n",
    "def load_image(img_path):\n",
    "    \n",
    "    img = image.load_img(img_path, target_size=(150, 150))\n",
    "    img_tensor = image.img_to_array(img)                    # (height, width, channels)\n",
    "    img_tensor = np.expand_dims(img_tensor, axis=0)         # (1, height, width, channels), add a dimension because the model expects this shape: (batch_size, height, width, channels)\n",
    "    img_tensor /= 255.                                      # imshow expects values in the range [0, 1]\n",
    "\n",
    "    return img_tensor\n",
    "\n",
    "model = load_fold_model(1)\n",
    "model.compile(optimizers.rmsprop(lr=0.0005, decay=1e-6),loss=\"categorical_crossentropy\",metrics=[\"accuracy\"])\n",
    "\n",
    "samples =datagen.flow_from_dataframe(dataframe=metadata[:5], \n",
    "                                                directory=\"./\", x_col=\"spectro_path\", \n",
    "                                                y_col=\"class\", class_mode=\"categorical\", \n",
    "                                                target_size=(64,64), batch_size=32)\n",
    "\n",
    "y_prob = model.predict_generator(samples) \n",
    "y_classes = y_prob.argmax(axis=-1)\n",
    "label_map = [k for k,v in samples.class_indices.items()]\n",
    "[{label_map[i]: } for i in y_classes]"
   ]
  }
 ],
 "metadata": {
  "kernelspec": {
   "display_name": "Python 3",
   "language": "python",
   "name": "python3"
  },
  "language_info": {
   "codemirror_mode": {
    "name": "ipython",
    "version": 3
   },
   "file_extension": ".py",
   "mimetype": "text/x-python",
   "name": "python",
   "nbconvert_exporter": "python",
   "pygments_lexer": "ipython3",
   "version": "3.6.9"
  }
 },
 "nbformat": 4,
 "nbformat_minor": 2
}
