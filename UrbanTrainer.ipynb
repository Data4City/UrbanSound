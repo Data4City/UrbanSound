{
 "cells": [
  {
   "cell_type": "code",
   "execution_count": 126,
   "metadata": {},
   "outputs": [],
   "source": [
    "import glob\n",
    "import os\n",
    "import librosa\n",
    "import librosa.display\n",
    "import numpy as np\n",
    "import matplotlib.pyplot as plt\n",
    "from matplotlib.pyplot import specgram\n",
    "import pandas\n",
    "import pandas as pd\n",
    "import os.path as p\n",
    "%matplotlib inline"
   ]
  },
  {
   "cell_type": "code",
   "execution_count": 232,
   "metadata": {},
   "outputs": [
    {
     "data": {
      "text/html": [
       "<div>\n",
       "<style scoped>\n",
       "    .dataframe tbody tr th:only-of-type {\n",
       "        vertical-align: middle;\n",
       "    }\n",
       "\n",
       "    .dataframe tbody tr th {\n",
       "        vertical-align: top;\n",
       "    }\n",
       "\n",
       "    .dataframe thead th {\n",
       "        text-align: right;\n",
       "    }\n",
       "</style>\n",
       "<table border=\"1\" class=\"dataframe\">\n",
       "  <thead>\n",
       "    <tr style=\"text-align: right;\">\n",
       "      <th></th>\n",
       "      <th>slice_file_name</th>\n",
       "      <th>start</th>\n",
       "      <th>end</th>\n",
       "      <th>salience</th>\n",
       "      <th>fold</th>\n",
       "      <th>classID</th>\n",
       "      <th>class</th>\n",
       "    </tr>\n",
       "    <tr>\n",
       "      <th>fsID</th>\n",
       "      <th></th>\n",
       "      <th></th>\n",
       "      <th></th>\n",
       "      <th></th>\n",
       "      <th></th>\n",
       "      <th></th>\n",
       "      <th></th>\n",
       "    </tr>\n",
       "  </thead>\n",
       "  <tbody>\n",
       "    <tr>\n",
       "      <th>100032</th>\n",
       "      <td>100032-3-0-0.wav</td>\n",
       "      <td>0.0</td>\n",
       "      <td>0.317551</td>\n",
       "      <td>1</td>\n",
       "      <td>5</td>\n",
       "      <td>3</td>\n",
       "      <td>dog_bark</td>\n",
       "    </tr>\n",
       "    <tr>\n",
       "      <th>100263</th>\n",
       "      <td>100263-2-0-117.wav</td>\n",
       "      <td>58.5</td>\n",
       "      <td>62.500000</td>\n",
       "      <td>1</td>\n",
       "      <td>5</td>\n",
       "      <td>2</td>\n",
       "      <td>children_playing</td>\n",
       "    </tr>\n",
       "    <tr>\n",
       "      <th>100263</th>\n",
       "      <td>100263-2-0-121.wav</td>\n",
       "      <td>60.5</td>\n",
       "      <td>64.500000</td>\n",
       "      <td>1</td>\n",
       "      <td>5</td>\n",
       "      <td>2</td>\n",
       "      <td>children_playing</td>\n",
       "    </tr>\n",
       "    <tr>\n",
       "      <th>100263</th>\n",
       "      <td>100263-2-0-126.wav</td>\n",
       "      <td>63.0</td>\n",
       "      <td>67.000000</td>\n",
       "      <td>1</td>\n",
       "      <td>5</td>\n",
       "      <td>2</td>\n",
       "      <td>children_playing</td>\n",
       "    </tr>\n",
       "    <tr>\n",
       "      <th>100263</th>\n",
       "      <td>100263-2-0-137.wav</td>\n",
       "      <td>68.5</td>\n",
       "      <td>72.500000</td>\n",
       "      <td>1</td>\n",
       "      <td>5</td>\n",
       "      <td>2</td>\n",
       "      <td>children_playing</td>\n",
       "    </tr>\n",
       "  </tbody>\n",
       "</table>\n",
       "</div>"
      ],
      "text/plain": [
       "           slice_file_name  start        end  salience  fold  classID  \\\n",
       "fsID                                                                    \n",
       "100032    100032-3-0-0.wav    0.0   0.317551         1     5        3   \n",
       "100263  100263-2-0-117.wav   58.5  62.500000         1     5        2   \n",
       "100263  100263-2-0-121.wav   60.5  64.500000         1     5        2   \n",
       "100263  100263-2-0-126.wav   63.0  67.000000         1     5        2   \n",
       "100263  100263-2-0-137.wav   68.5  72.500000         1     5        2   \n",
       "\n",
       "                   class  \n",
       "fsID                      \n",
       "100032          dog_bark  \n",
       "100263  children_playing  \n",
       "100263  children_playing  \n",
       "100263  children_playing  \n",
       "100263  children_playing  "
      ]
     },
     "execution_count": 232,
     "metadata": {},
     "output_type": "execute_result"
    }
   ],
   "source": [
    "datasource_path = \"UrbanSound8k\"\n",
    "audio_source = p.join(datasource_path, \"audio\")\n",
    "metadata_path = p.join(p.join(datasource_path, \"metadata\"),\"UrbanSound8k.csv\")\n",
    "metadata = pd.read_csv(metadata_path, index_col=\"fsID\")\n",
    "spectro_path = p.join(\"UrbanSound8k\", \"spectrogram\")\n",
    "folds = [\"fold{}\".format(str(i)) for i in range(1,11)]\n",
    "\n",
    "metadata[:5]"
   ]
  },
  {
   "cell_type": "code",
   "execution_count": 240,
   "metadata": {},
   "outputs": [
    {
     "name": "stdout",
     "output_type": "stream",
     "text": [
      "Directory  UrbanSound8k\\spectrogram  already exists\n",
      "Directory  UrbanSound8k\\spectrogram\\fold1  already exists\n",
      "Directory  UrbanSound8k\\spectrogram\\fold2  already exists\n",
      "Directory  UrbanSound8k\\spectrogram\\fold3  already exists\n",
      "Directory  UrbanSound8k\\spectrogram\\fold4  already exists\n",
      "Directory  UrbanSound8k\\spectrogram\\fold5  already exists\n",
      "Directory  UrbanSound8k\\spectrogram\\fold6  already exists\n",
      "Directory  UrbanSound8k\\spectrogram\\fold7  already exists\n",
      "Directory  UrbanSound8k\\spectrogram\\fold8  already exists\n",
      "Directory  UrbanSound8k\\spectrogram\\fold9  already exists\n",
      "Directory  UrbanSound8k\\spectrogram\\fold10  already exists\n"
     ]
    }
   ],
   "source": [
    "def create_folders():\n",
    "    to_create =[spectro_path]+ [p.join(spectro_path, fold) for fold in folds]\n",
    "    \n",
    "    for dirName in to_create:\n",
    "        try:\n",
    "            # Create target Directory\n",
    "            os.mkdir(dirName)\n",
    "            print(\"Directory \" , dirName ,  \" Created \") \n",
    "        except FileExistsError:\n",
    "            print(\"Directory \" , dirName ,  \" already exists\")\n",
    "\n",
    "create_folders()"
   ]
  },
  {
   "cell_type": "code",
   "execution_count": 230,
   "metadata": {},
   "outputs": [],
   "source": [
    "def plot_spectrogram(filename):\n",
    "    plt.interactive(False)\n",
    "    filename, _ = build_path(filename)\n",
    "    clip, sample_rate = librosa.load(filename, sr=None)\n",
    "    fig, ax = plt.subplots()\n",
    "    S = librosa.feature.melspectrogram(y=clip, sr=sample_rate)\n",
    "    librosa.display.specshow(librosa.power_to_db(S, ref=np.max))\n",
    "    plt.show()\n",
    "\n",
    "    \n",
    "def create_spectrogram(filename):\n",
    "    plt.interactive(False)\n",
    "    filename, fold_id =build_path(filename)\n",
    "    clip, sample_rate = librosa.load(filename, sr=None)\n",
    "    fig = plt.figure(figsize=[0.72,0.72])\n",
    "    ax = fig.add_subplot(111)\n",
    "    ax.axes.get_xaxis().set_visible(False)\n",
    "    ax.axes.get_yaxis().set_visible(False)\n",
    "    ax.set_frame_on(False)\n",
    "    S = librosa.feature.melspectrogram(y=clip, sr=sample_rate)\n",
    "    librosa.display.specshow(librosa.power_to_db(S, ref=np.max))\n",
    "    curr_path = p.join(spectro_path, folds[fold_id])\n",
    "    savefile  = p.join(curr_path, \"{}.jpg\".format(p.basename(filename).split(\".\")[0] ))\n",
    "    plt.savefig(savefile, dpi=400, bbox_inches='tight',pad_inches=0)\n",
    "    plt.close()    \n",
    "    fig.clf()\n",
    "    plt.close(fig)\n",
    "    plt.close('all')\n",
    "    del filename,clip,sample_rate,fig,ax,S,savefile\n",
    "    \n",
    "def build_path(file_name, spectrogram = False):\n",
    "    file=file_name.split(\".\")\n",
    "    source = spectro_path if spectrogram else audio_source\n",
    "    file_name = file[0] + \".jpg\" if spectrogram else file[0] +\".wav\"\n",
    "    fsID= int(file_name.split(\"-\")[0])\n",
    "    frame = metadata.loc[fsID]\n",
    "    fold_id = 0\n",
    "    try:\n",
    "        fold_id = frame[\"fold\"].values[0]-1\n",
    "    except:\n",
    "        fold_id = frame[\"fold\"] -1\n",
    "    file_with_fold = p.join(folds[fold_id], file_name)\n",
    "    return p.join(source,file_with_fold), fold_id"
   ]
  },
  {
   "cell_type": "code",
   "execution_count": 236,
   "metadata": {},
   "outputs": [],
   "source": [
    "create_spectrogram(\"100263-2-0-126..wav\")"
   ]
  },
  {
   "cell_type": "code",
   "execution_count": 251,
   "metadata": {},
   "outputs": [
    {
     "data": {
      "application/vnd.jupyter.widget-view+json": {
       "model_id": "75225d752f6649318f0f1c79e12f854a",
       "version_major": 2,
       "version_minor": 0
      },
      "text/plain": [
       "HBox(children=(IntProgress(value=1, bar_style='info', max=1), HTML(value='')))"
      ]
     },
     "metadata": {},
     "output_type": "display_data"
    },
    {
     "name": "stderr",
     "output_type": "stream",
     "text": [
      "c:\\users\\dan amador.desktop-2vi585i\\anaconda3\\envs\\ml-agents\\lib\\site-packages\\librosa\\filters.py:284: UserWarning: Empty filters detected in mel frequency basis. Some channels will produce empty responses. Try increasing your sampling rate (and fmax) or reducing n_mels.\n",
      "  warnings.warn('Empty filters detected in mel frequency basis. '\n"
     ]
    },
    {
     "name": "stdout",
     "output_type": "stream",
     "text": [
      "8732\n",
      "107\n",
      "8625\n"
     ]
    }
   ],
   "source": [
    "from tqdm import tqdm_notebook\n",
    "\n",
    "import gc\n",
    "counter = 0\n",
    "errors =0\n",
    "for index, row in tqdm_notebook(metadata.iterrows()):\n",
    "    counter += 1\n",
    "    if counter%2000 ==0:\n",
    "        gc.collect()\n",
    "    try:\n",
    "        file_name = row[\"slice_file_name\"]\n",
    "        s,_ = build_path(file_name, True)\n",
    "        if not p.exists(s): create_spectrogram(file_name)\n",
    "    except Exception as e:\n",
    "        errors +=1\n",
    "\n",
    "print(counter)\n",
    "print(errors)\n",
    "print(counter - errors)"
   ]
  },
  {
   "cell_type": "code",
   "execution_count": 255,
   "metadata": {},
   "outputs": [],
   "source": [
    "from tensorflow.python.keras import layers, models\n",
    "from tensorflow.python.keras.optimizers import Adam\n",
    "from tensorflow.python.keras.preprocessing.image import ImageDataGenerator\n",
    "from sklearn.model_selection import StratifiedKFold\n"
   ]
  },
  {
   "cell_type": "code",
   "execution_count": 256,
   "metadata": {},
   "outputs": [],
   "source": [
    "def get_fold(idx):\n",
    "    return metadata[metadata.fold == index]\n",
    "\n",
    "def get_model():\n",
    "    model = Sequential()\n",
    "    model.add(Conv2D(32, (3, 3), padding='same',\n",
    "                 input_shape=(64,64,3)))\n",
    "    model.add(Activation('relu'))\n",
    "    model.add(Conv2D(64, (3, 3)))\n",
    "    model.add(Activation('relu'))\n",
    "    model.add(MaxPooling2D(pool_size=(2, 2)))\n",
    "    model.add(Dropout(0.25))\n",
    "    model.add(Conv2D(64, (3, 3), padding='same'))\n",
    "    model.add(Activation('relu'))\n",
    "    model.add(Conv2D(64, (3, 3)))\n",
    "    model.add(Activation('relu'))\n",
    "    model.add(MaxPooling2D(pool_size=(2, 2)))\n",
    "    model.add(Dropout(0.5))\n",
    "    model.add(Conv2D(128, (3, 3), padding='same'))\n",
    "    model.add(Activation('relu'))\n",
    "    model.add(Conv2D(128, (3, 3)))\n",
    "    model.add(Activation('relu'))\n",
    "    model.add(MaxPooling2D(pool_size=(2, 2)))\n",
    "    model.add(Dropout(0.5))\n",
    "    model.add(Flatten())\n",
    "    model.add(Dense(512))\n",
    "    model.add(Activation('relu'))\n",
    "    model.add(Dropout(0.5))\n",
    "    model.add(Dense(10, activation='softmax'))\n",
    "    \n",
    "    return model"
   ]
  },
  {
   "cell_type": "code",
   "execution_count": 267,
   "metadata": {},
   "outputs": [
    {
     "ename": "NameError",
     "evalue": "name 'attr' is not defined",
     "output_type": "error",
     "traceback": [
      "\u001b[1;31m---------------------------------------------------------------------------\u001b[0m",
      "\u001b[1;31mNameError\u001b[0m                                 Traceback (most recent call last)",
      "\u001b[1;32m<ipython-input-267-abfaee683185>\u001b[0m in \u001b[0;36m<module>\u001b[1;34m\u001b[0m\n\u001b[0;32m      1\u001b[0m \u001b[0mdatagen\u001b[0m\u001b[1;33m=\u001b[0m\u001b[0mImageDataGenerator\u001b[0m\u001b[1;33m(\u001b[0m\u001b[0mrescale\u001b[0m\u001b[1;33m=\u001b[0m\u001b[1;36m1.\u001b[0m\u001b[1;33m/\u001b[0m\u001b[1;36m255\u001b[0m\u001b[1;33m)\u001b[0m\u001b[1;33m\u001b[0m\u001b[1;33m\u001b[0m\u001b[0m\n\u001b[1;32m----> 2\u001b[1;33m \u001b[0mattr\u001b[0m\u001b[1;33m(\u001b[0m\u001b[0mdatagen\u001b[0m\u001b[1;33m)\u001b[0m\u001b[1;33m\u001b[0m\u001b[1;33m\u001b[0m\u001b[0m\n\u001b[0m",
      "\u001b[1;31mNameError\u001b[0m: name 'attr' is not defined"
     ]
    }
   ],
   "source": [
    "datagen=ImageDataGenerator(rescale=1./255)\n"
   ]
  },
  {
   "cell_type": "code",
   "execution_count": 268,
   "metadata": {},
   "outputs": [
    {
     "ename": "TypeError",
     "evalue": "'StratifiedKFold' object is not iterable",
     "output_type": "error",
     "traceback": [
      "\u001b[1;31m---------------------------------------------------------------------------\u001b[0m",
      "\u001b[1;31mTypeError\u001b[0m                                 Traceback (most recent call last)",
      "\u001b[1;32m<ipython-input-268-ff73f6bb2905>\u001b[0m in \u001b[0;36m<module>\u001b[1;34m\u001b[0m\n\u001b[0;32m      1\u001b[0m \u001b[0mskf\u001b[0m \u001b[1;33m=\u001b[0m \u001b[0mStratifiedKFold\u001b[0m\u001b[1;33m(\u001b[0m\u001b[0mn_splits\u001b[0m\u001b[1;33m=\u001b[0m\u001b[1;36m10\u001b[0m\u001b[1;33m,\u001b[0m \u001b[0mshuffle\u001b[0m\u001b[1;33m=\u001b[0m\u001b[1;32mTrue\u001b[0m\u001b[1;33m)\u001b[0m\u001b[1;33m\u001b[0m\u001b[1;33m\u001b[0m\u001b[0m\n\u001b[1;32m----> 2\u001b[1;33m \u001b[1;32mfor\u001b[0m \u001b[0mindex\u001b[0m\u001b[1;33m,\u001b[0m \u001b[1;33m(\u001b[0m\u001b[0mtrain_indices\u001b[0m\u001b[1;33m,\u001b[0m \u001b[0mval_indices\u001b[0m\u001b[1;33m)\u001b[0m \u001b[1;32min\u001b[0m \u001b[0menumerate\u001b[0m\u001b[1;33m(\u001b[0m\u001b[0mskf\u001b[0m\u001b[1;33m)\u001b[0m\u001b[1;33m:\u001b[0m\u001b[1;33m\u001b[0m\u001b[1;33m\u001b[0m\u001b[0m\n\u001b[0m\u001b[0;32m      3\u001b[0m    \u001b[0mprint\u001b[0m\u001b[1;33m(\u001b[0m\u001b[1;34m\"Training on fold \"\u001b[0m \u001b[1;33m+\u001b[0m \u001b[0mstr\u001b[0m\u001b[1;33m(\u001b[0m\u001b[0mindex\u001b[0m\u001b[1;33m+\u001b[0m\u001b[1;36m1\u001b[0m\u001b[1;33m)\u001b[0m \u001b[1;33m+\u001b[0m \u001b[1;34m\"/10...\"\u001b[0m\u001b[1;33m)\u001b[0m\u001b[1;33m\u001b[0m\u001b[1;33m\u001b[0m\u001b[0m\n",
      "\u001b[1;31mTypeError\u001b[0m: 'StratifiedKFold' object is not iterable"
     ]
    }
   ],
   "source": [
    "skf = StratifiedKFold(n_splits=10, shuffle=True)\n",
    "for index, (train_indices, val_indices) in enumerate(skf):\n",
    "   print(\"Training on fold \" + str(index+1) + \"/10...\")\n"
   ]
  }
 ],
 "metadata": {
  "kernelspec": {
   "display_name": "Python 3",
   "language": "python",
   "name": "python3"
  },
  "language_info": {
   "codemirror_mode": {
    "name": "ipython",
    "version": 3
   },
   "file_extension": ".py",
   "mimetype": "text/x-python",
   "name": "python",
   "nbconvert_exporter": "python",
   "pygments_lexer": "ipython3",
   "version": "3.6.8"
  }
 },
 "nbformat": 4,
 "nbformat_minor": 2
}
